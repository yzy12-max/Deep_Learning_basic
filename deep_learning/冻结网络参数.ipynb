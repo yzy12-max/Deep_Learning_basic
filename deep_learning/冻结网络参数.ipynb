# 在yolov5中

# 打印模型层数名称看看：
for k, v in model.named_parameters():
    print(k)

# Output
# model.0.conv.conv.weight
# model.0.conv.bn.weight
# model.0.conv.bn.bias .....

# 里面的代码实现
 freeze = [f'model.{x}.' for x in range(freeze)]  # layers to freeze 
 for k, v in model.named_parameters(): 
     v.requires_grad = True  # train all layers 
     if any(x in k for x in freeze): 
         print(f'freezing {k}') 
         v.requires_grad = False 
        
# 如果要冻结0-9层，只需要：python train.py --freeze 10     
