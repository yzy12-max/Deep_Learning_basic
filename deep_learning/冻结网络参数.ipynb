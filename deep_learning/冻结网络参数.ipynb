{
 "cells": [
  {
   "cell_type": "code",
   "execution_count": null,
   "metadata": {},
   "outputs": [],
   "source": [
    "# 在yolov5中\n",
    "\n",
    "# 打印模型层数名称看看：\n",
    "for k, v in model.named_parameters():\n",
    "    print(k)\n",
    "\n",
    "# Output\n",
    "# model.0.conv.conv.weight\n",
    "# model.0.conv.bn.weight\n",
    "# model.0.conv.bn.bias .....\n",
    "\n",
    "# 里面的代码实现\n",
    " freeze = [f'model.{x}.' for x in range(freeze)]  # layers to freeze \n",
    " for k, v in model.named_parameters(): \n",
    "     v.requires_grad = True  # train all layers \n",
    "     if any(x in k for x in freeze): \n",
    "         print(f'freezing {k}') \n",
    "         v.requires_grad = False \n",
    "        \n",
    "# 如果要冻结0-9层，只需要：python train.py --freeze 10        \n",
   ]
  }
 ],
 "metadata": {
  "kernelspec": {
   "display_name": "Python [conda env:pytorch]",
   "language": "python",
   "name": "conda-env-pytorch-py"
  },
  "language_info": {
   "codemirror_mode": {
    "name": "ipython",
    "version": 3
   },
   "file_extension": ".py",
   "mimetype": "text/x-python",
   "name": "python",
   "nbconvert_exporter": "python",
   "pygments_lexer": "ipython3",
   "version": "3.6.13"
  }
 },
 "nbformat": 4,
 "nbformat_minor": 4
}
