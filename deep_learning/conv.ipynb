{
 "cells": [
  {
   "cell_type": "code",
   "execution_count": null,
   "metadata": {},
   "outputs": [],
   "source": [
    "# 实现手写卷积\n",
    "import numpy as np\n",
    "# 1.将需要卷积的范围取出进行卷积\n",
    "def conv_1(input_data,kernel,bias,stride=1,pad=0):\n",
    "    \n",
    "    if pad:\n",
    "        input_data = np.pad(input_data,[(pad,pad),(pad,pad)])\n",
    "    h,w = input_data.shape\n",
    "    k_h,k_w = kernel.shape\n",
    "    out_h = (h-k_h)//stride + 1\n",
    "    out_w = (w-k_w)//stride + 1\n",
    "    # output = np.array(out_w*out_h)\n",
    "    output = np.zeros((out_h,out_w))\n",
    "    for i in range(0,h-k_h+1,stride):\n",
    "        for j in range(0,w-k_w+1,stride):\n",
    "            roi = input_data[i:i+k_h,j:j+k_w]\n",
    "            output[i//stride,j//stride] = np.sum(region*kernel)\n",
    "    return output"
   ]
  }
 ],
 "metadata": {
  "kernelspec": {
   "display_name": "Python [conda env:pytorch]",
   "language": "python",
   "name": "conda-env-pytorch-py"
  },
  "language_info": {
   "codemirror_mode": {
    "name": "ipython",
    "version": 3
   },
   "file_extension": ".py",
   "mimetype": "text/x-python",
   "name": "python",
   "nbconvert_exporter": "python",
   "pygments_lexer": "ipython3",
   "version": "3.6.13"
  }
 },
 "nbformat": 4,
 "nbformat_minor": 4
}
