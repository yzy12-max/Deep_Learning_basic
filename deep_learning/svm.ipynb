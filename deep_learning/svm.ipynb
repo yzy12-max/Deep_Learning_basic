{
 "cells": [
  {
   "cell_type": "code",
   "execution_count": null,
   "id": "0121b1c1",
   "metadata": {},
   "outputs": [],
   "source": []
  },
  {
   "cell_type": "code",
   "execution_count": 19,
   "id": "13f9a5cc",
   "metadata": {},
   "outputs": [],
   "source": [
    "# svm分类\n",
    "\n",
    "import numpy as np\n",
    "from sklearn.svm import SVC \n",
    "from sklearn import datasets \n",
    "from sklearn.preprocessing import StandardScaler # 标准化函数\n",
    "from sklearn.model_selection import train_test_split"
   ]
  },
  {
   "cell_type": "code",
   "execution_count": 20,
   "id": "e901d404",
   "metadata": {},
   "outputs": [],
   "source": [
    "# 读数据\n",
    "iris = datasets.load_iris()\n",
    "X = iris.data\n",
    "y = iris.target"
   ]
  },
  {
   "cell_type": "code",
   "execution_count": 21,
   "id": "ef67974b",
   "metadata": {},
   "outputs": [],
   "source": [
    "# 标准化\n",
    "std = StandardScaler()\n",
    "X_std = std.fit_transform(X)"
   ]
  },
  {
   "cell_type": "code",
   "execution_count": 22,
   "id": "c9671fbb",
   "metadata": {},
   "outputs": [
    {
     "data": {
      "text/plain": [
       "1.0"
      ]
     },
     "execution_count": 22,
     "metadata": {},
     "output_type": "execute_result"
    }
   ],
   "source": [
    "# 划分数据集\n",
    "X_train,X_test,y_train,y_test = train_test_split(X_std,y,test_size=0.2,train_size=0.8)\n",
    "\n",
    "# SVM建模\n",
    "svm_class = SVC()\n",
    "svm_class.fit(X_train,y_train)\n",
    "\n",
    "# 模型效果\n",
    "svm_class.score(X_test,y_test)"
   ]
  },
  {
   "cell_type": "code",
   "execution_count": null,
   "id": "313bf863",
   "metadata": {},
   "outputs": [],
   "source": [
    "# svm回归"
   ]
  },
  {
   "cell_type": "markdown",
   "id": "adc6f166",
   "metadata": {},
   "source": [
    "svm和decision tree都是判别模型；对于线性模型而言，特征归一化是为了使不同特征处于相同的量级范围，\n",
    "不至于出现部分特征主导输出结果的情况，对于决策树模型而言，特征归一化不是必须的，节点分支时无论是计算信息熵还是基尼系数，\n",
    "至于概率相关，对特征量级并不敏感；gradient decent加速收敛是归一化的附加效果，量级缩放到同一尺度使得搜索的跳跃更加平滑，\n",
    "避免反复震荡的情况。\n",
    "\n",
    "链接：https://www.zhihu.com/question/274640730/answer/376781767\n"
   ]
  },
  {
   "cell_type": "code",
   "execution_count": 28,
   "id": "a8170b21",
   "metadata": {},
   "outputs": [
    {
     "data": {
      "text/plain": [
       "0.6212819702372212"
      ]
     },
     "execution_count": 28,
     "metadata": {},
     "output_type": "execute_result"
    }
   ],
   "source": [
    "from sklearn.svm import SVR\n",
    "\n",
    "# 读数据\n",
    "boston = datasets.load_boston()\n",
    "X = boston.data\n",
    "y = boston.target\n",
    "\n",
    "# 标准化\n",
    "std = StandardScaler()\n",
    "X_std = std.fit_transform(X)\n",
    "\n",
    "# 划分数据集\n",
    "# X_train,X_test,y_train,y_test = train_test_split(X,y,test_size=0.2,train_size=0.8)   # 回归如果不标准化的话效果会很差\n",
    "X_train,X_test,y_train,y_test = train_test_split(X_std,y,test_size=0.2,train_size=0.8) \n",
    "\n",
    "# SVM建模\n",
    "svm_reg = SVR()\n",
    "svm_reg.fit(X_train,y_train)\n",
    "\n",
    "# 模型效果\n",
    "svm_reg.score(X_test,y_test)"
   ]
  },
  {
   "cell_type": "code",
   "execution_count": null,
   "id": "72a59ed3",
   "metadata": {},
   "outputs": [],
   "source": []
  },
  {
   "cell_type": "code",
   "execution_count": null,
   "id": "159df15b",
   "metadata": {},
   "outputs": [],
   "source": []
  }
 ],
 "metadata": {
  "kernelspec": {
   "display_name": "Python 3",
   "language": "python",
   "name": "python3"
  },
  "language_info": {
   "codemirror_mode": {
    "name": "ipython",
    "version": 3
   },
   "file_extension": ".py",
   "mimetype": "text/x-python",
   "name": "python",
   "nbconvert_exporter": "python",
   "pygments_lexer": "ipython3",
   "version": "3.6.13"
  }
 },
 "nbformat": 4,
 "nbformat_minor": 5
}
