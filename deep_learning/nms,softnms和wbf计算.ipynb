{
 "cells": [
  {
   "cell_type": "code",
   "execution_count": 19,
   "metadata": {},
   "outputs": [
    {
     "name": "stdout",
     "output_type": "stream",
     "text": [
      "index: [2 5 4 1 3 0]\n",
      "[2, 1, 3]\n"
     ]
    }
   ],
   "source": [
    "# 就是抑制不是极大值的元素，可以理解为局部最大搜索。\n",
    "'''\n",
    "1> 根据检测框的置信度得分进行降序排序，选取分数最高的检测框A，\n",
    "2> 分别计算检测框A与相邻检测框的重叠度IOU，对大于阈值的检测框得分直接置零，也就是扔掉；并标记将检测框A保留下来\n",
    "3> 重复这个过程，找到所有被保留下来的检测框\n",
    "'''\n",
    "import numpy as np\n",
    "\n",
    "def py_cpu_nms(dets,iou_thres):\n",
    "    # 计算交集和并集，准备计算IOU\n",
    "    x1 = boxes[:,0]   # 二维的变成一维的了\n",
    "    y1 = boxes[:,1]\n",
    "    x2 = boxes[:,2]\n",
    "    y2 = boxes[:,3]\n",
    "    scores = boxes[:,4] \n",
    "\n",
    "    areas = (x2-x1+1)*(y2-y1+1)  # +1 是为了避免一些小数计算\n",
    "    # print(areas) \n",
    "    keep = [] # 定义一个列表，用来存放NMS后剩余的方框  \n",
    "    index = scores.argsort()[::-1] # 取出分数从大到小排列的索引 \n",
    "    print('index:',index)\n",
    "    \n",
    "    # index\n",
    "    while index.size>0:\n",
    "        # 取出第一个方框和其他方框进行比对，看又没有\n",
    "        i = index[0]\n",
    "        keep.append(i) # keep先保留的是索引值，不是具体的分数\n",
    "        \n",
    "        # IOU计算\n",
    "        x_l = np.maximum(x1[i],x1[index[1:]])   # 会减少一个框坐标\n",
    "        y_l = np.maximum(y1[i], y1[index[1:]])  # 当order只有一个值的时候，order[1]会报错说index out of range，而order[1:]会是[]，不报错\n",
    "        x_r = np.minimum(x2[i],x2[index[1:]])\n",
    "        y_r = np.maximum(y2[i], y2[index[1:]])\n",
    "        # 注意，如果两个方框相交，计算为正，不相交计算为负,负的设置为0\n",
    "        h = np.maximum(0,y_r-y_l+1)\n",
    "        w = np.maximum(0,x_r-x_l+1)\n",
    "        \n",
    "        # 计算交集\n",
    "        intersection = h*w\n",
    "        union = areas[i]+areas[index[1:]]-intersection\n",
    "        ious = intersection/union+1e-8   # 1e-8考虑分母可能为0的情况\n",
    "        \n",
    "        # 把iou值大于所给的阈值的框给筛选掉\n",
    "        idx = np.where(ious<=iou_thres)[0]  # 只有条件 (condition)，没有x和y，则输出满足条件 (即非0) 元素的坐标,\n",
    "        # 把留下的框再次进行NMS操作     # 坐标以tuple的形式给出,通常原数组有多少维，输出的tuple中就包含几个数组，分别对应符合条件元素的各维坐标。\n",
    "        index = index[idx + 1]\n",
    "    return keep\n",
    "\n",
    "boxes = np.array([[100, 100, 210, 210, 0.72],\n",
    "                  [250, 250, 420, 420, 0.8],\n",
    "                  [220, 220, 320, 330, 0.92],\n",
    "                  [100, 100, 210, 210, 0.72],\n",
    "                  [230, 240, 325, 330, 0.81],\n",
    "                  [220, 230, 315, 340, 0.9]])\n",
    "keep = py_cpu_nms(boxes,0.6)\n",
    "print(keep)"
   ]
  },
  {
   "cell_type": "code",
   "execution_count": 17,
   "metadata": {},
   "outputs": [
    {
     "data": {
      "image/png": "[encoded data removed]",
      "text/plain": [
       "<Figure size 432x288 with 2 Axes>"
      ]
     },
     "metadata": {
      "needs_background": "light"
     },
     "output_type": "display_data"
    }
   ],
   "source": [
    "# 画图展示过程\n",
    "import matplotlib.pyplot as plt\n",
    "def draw_boxes(boxes,color):\n",
    "    x1 = boxes[:,0]   # 二维的变成一维的了\n",
    "    y1 = boxes[:,1]\n",
    "    x2 = boxes[:,2]\n",
    "    y2 = boxes[:,3]\n",
    "    \n",
    "    plt.plot([x1,x1],[y1,y2],color)\n",
    "    plt.plot([x1,x2],[y1,y1],color)\n",
    "    plt.plot([x1,x2],[y2,y2],color)\n",
    "    plt.plot([x2,x2],[y1,y2],color)\n",
    "\n",
    "plt.figure()\n",
    "ax1 = plt.subplot(121)\n",
    "ax2 = plt.subplot(122)\n",
    "plt.sca(ax1)\n",
    "draw_boxes(boxes,'b')\n",
    "\n",
    "plt.sca(ax2)\n",
    "draw_boxes(boxes[keep],'r')\n",
    "plt.show()"
   ]
  },
  {
   "cell_type": "code",
   "execution_count": 24,
   "metadata": {},
   "outputs": [
    {
     "name": "stdout",
     "output_type": "stream",
     "text": [
      "index: [2 0 1 4 3 5]\n",
      "[1 2 4 3 5]\n",
      "[1]\n",
      "[]\n"
     ]
    },
    {
     "data": {
      "image/png": "[encoded data removed]",
      "text/plain": [
       "<Figure size 432x288 with 2 Axes>"
      ]
     },
     "metadata": {
      "needs_background": "light"
     },
     "output_type": "display_data"
    }
   ],
   "source": [
    "# soft nms ，仅仅是加了个惩罚项\n",
    "'''\n",
    "1> 根据检测框的置信度得分进行降序排序，选取分数最高的检测框A，\n",
    "2> 分别计算检测框A与相邻检测框的重叠度IOU，对大于阈值的检测框设置一个惩罚函数，降低这些检测框的置信度得分\n",
    "3> 重复这个过程，找到所有被保留下来的检测框\n",
    "'''\n",
    "def py_cpu_softnms(dets,iou_thres,score_thres,sigma,method=0):\n",
    "    # 计算交集和并集，准备计算IOU\n",
    "    x1 = boxes[:,0]   # 二维的变成一维的了\n",
    "    y1 = boxes[:,1]\n",
    "    x2 = boxes[:,2]\n",
    "    y2 = boxes[:,3]\n",
    "    scores = boxes[:,4] # 没有新开辟\n",
    "\n",
    "    areas = (x2-x1+1)*(y2-y1+1)  # +1 是为了避免一些小数计算\n",
    "    # print(areas) \n",
    "    keep = [] # 定义一个列表，用来存放NMS后剩余的方框  \n",
    "    index = scores.argsort()[::-1] # 取出分数从大到小排列的索引 \n",
    "    print('index:',index)\n",
    "    \n",
    "    # index\n",
    "    while index.size>0:\n",
    "        # 取出第一个方框和其他方框进行比对，看又没有\n",
    "        i = index[0]\n",
    "        keep.append(i) # keep先保留的是索引值，不是具体的分数\n",
    "        \n",
    "        # IOU计算\n",
    "        x_l = np.maximum(x1[i],x1[index[1:]])   # 会减少一个框坐标\n",
    "        y_l = np.maximum(y1[i], y1[index[1:]])  # 当order只有一个值的时候，order[1]会报错说index out of range，而order[1:]会是[]，不报错\n",
    "        x_r = np.minimum(x2[i],x2[index[1:]])\n",
    "        y_r = np.maximum(y2[i], y2[index[1:]])\n",
    "        # 注意，如果两个方框相交，计算为正，不相交计算为负,负的设置为0\n",
    "        h = np.maximum(0,y_r-y_l+1)\n",
    "        w = np.maximum(0,x_r-x_l+1)\n",
    "        \n",
    "        # 计算交集\n",
    "        intersection = h*w\n",
    "        union = areas[i]+areas[index[1:]]-intersection\n",
    "        ious = intersection/union+1e-8   # 1e-8考虑分母可能为0的情况\n",
    "        \n",
    "        # 不同的地方\n",
    "        if method==0:  # 线性惩罚\n",
    "            weights = np.ones(ious.shape)\n",
    "            weights[ious>=iou_thres] = weights[ious>=iou_thres]-ious[ious>=iou_thres] \n",
    "        elif method==1:\n",
    "            weights = np.exp(-ious*ious/sigma)\n",
    "            \n",
    "        # 更新分数\n",
    "        scores[index[1:]] *= weights\n",
    "        # 更新索引\n",
    "        update_index = scores[index[1:]].argsort()[::-1]+ 1 # 因为是在order里排序，所以后面再取索引时，到原来的order里取就行了\n",
    "        print(update_index)\n",
    "        index = index[update_index]   # 取索引时，到原来的order里取\n",
    "        # 这里不同的是用置信度分数作为筛选的依据了\n",
    "        keep_idx = np.where(scores[index]>score_thres)[0]\n",
    "        \n",
    "        index = index[keep_idx]\n",
    "    return keep\n",
    "\n",
    "# !!! 这样出入boxes会在函数里改变里面scores的值，返回后一样改变了值\n",
    "keep_sf = py_cpu_softnms(boxes,iou_thres=0.5,score_thres=0.3,sigma=0.5,method=1)\n",
    "# 画图\n",
    "plt.figure()\n",
    "ax1 = plt.subplot(121)\n",
    "ax2 = plt.subplot(122)\n",
    "plt.sca(ax1)\n",
    "draw_boxes(boxes,'b')\n",
    "\n",
    "plt.sca(ax2)\n",
    "draw_boxes(boxes[keep_sf],'r')\n",
    "plt.show()"
   ]
  },
  {
   "cell_type": "code",
   "execution_count": 32,
   "metadata": {},
   "outputs": [
    {
     "name": "stdout",
     "output_type": "stream",
     "text": [
      "wboxes: [[220. 220. 320. 330.]\n",
      " [100. 100. 210. 210.]] \n",
      " wscores: [0.92 0.72] \n",
      " wlabels [0. 0.]\n"
     ]
    },
    {
     "data": {
      "image/png": "[encoded data removed]",
      "text/plain": [
       "<Figure size 432x288 with 2 Axes>"
      ]
     },
     "metadata": {
      "needs_background": "light"
     },
     "output_type": "display_data"
    }
   ],
   "source": [
    "# wbf\n",
    "from ensemble_boxes import *\n",
    "def run_wbf(boxes, scores, image_size=640, iou_thr=0.5, skip_box_thr=0.7, weights=None):\n",
    "    labels = [np.zeros(score.shape[0]) for score in scores]\n",
    "    #labels = [np.zeros(scores.shape[0]) for _ in range(len(scores))]\n",
    "    boxes = [box/(image_size) for box in boxes]\n",
    "    scores = [score for score in scores]\n",
    "    boxes, scores, labels = weighted_boxes_fusion(boxes, scores, labels, weights=None, iou_thr=iou_thr, skip_box_thr=skip_box_thr)\n",
    "    boxes = boxes*(image_size)\n",
    "    return boxes, scores, labels\n",
    "\n",
    "box = boxes[:,:4]\n",
    "box = np.expand_dims(box,axis=0)\n",
    "scores = boxes[:,4]\n",
    "scores = np.expand_dims(scores,axis=0)\n",
    "wboxes, wscores, wlabels = run_wbf(box,scores)\n",
    "print('wboxes:',wboxes,'\\n','wscores:',wscores,'\\n', 'wlabels',wlabels)\n",
    "# 画图\n",
    "plt.figure()\n",
    "ax1 = plt.subplot(121)\n",
    "ax2 = plt.subplot(122)\n",
    "plt.sca(ax1)\n",
    "draw_boxes(boxes,'b')\n",
    "plt.sca(ax2)\n",
    "draw_boxes(wboxes,'r')\n",
    "plt.show()"
   ]
  },
  {
   "cell_type": "code",
   "execution_count": null,
   "metadata": {},
   "outputs": [],
   "source": []
  }
 ],
 "metadata": {
  "kernelspec": {
   "display_name": "Python [conda env:pytorch]",
   "language": "python",
   "name": "conda-env-pytorch-py"
  },
  "language_info": {
   "codemirror_mode": {
    "name": "ipython",
    "version": 3
   },
   "file_extension": ".py",
   "mimetype": "text/x-python",
   "name": "python",
   "nbconvert_exporter": "python",
   "pygments_lexer": "ipython3",
   "version": "3.6.13"
  }
 },
 "nbformat": 4,
 "nbformat_minor": 4
}
