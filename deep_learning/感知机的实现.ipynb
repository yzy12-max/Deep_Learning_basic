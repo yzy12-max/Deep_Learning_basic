{
 "cells": [
  {
   "cell_type": "code",
   "execution_count": 1,
   "metadata": {},
   "outputs": [
    {
     "name": "stdout",
     "output_type": "stream",
     "text": [
      "0 0 0 1\n"
     ]
    }
   ],
   "source": [
    "# 实现与门\n",
    "def AND(x1,x2):\n",
    "    w1,w2,thre = 0.5,0.5,0.7\n",
    "    y = x1*w1+x2*w2\n",
    "    if y<=thre:\n",
    "        return 0\n",
    "    if y>thre:\n",
    "        return 1\n",
    "\n",
    "a = AND(0,0)\n",
    "b = AND(0,1)\n",
    "c = AND(1,0)\n",
    "d = AND(1,1)\n",
    "print(a,b,c,d)"
   ]
  },
  {
   "cell_type": "code",
   "execution_count": 2,
   "metadata": {},
   "outputs": [
    {
     "data": {
      "text/plain": [
       "0.5"
      ]
     },
     "execution_count": 2,
     "metadata": {},
     "output_type": "execute_result"
    }
   ],
   "source": [
    "import numpy as np\n",
    "x = np.array([0,1])\n",
    "w = np.array([0.5,0.5])\n",
    "b = -0.7\n",
    "np.sum(w*x)"
   ]
  },
  {
   "cell_type": "code",
   "execution_count": 3,
   "metadata": {},
   "outputs": [
    {
     "data": {
      "text/plain": [
       "-0.19999999999999996"
      ]
     },
     "execution_count": 3,
     "metadata": {},
     "output_type": "execute_result"
    }
   ],
   "source": [
    "np.sum(w*x)+b  # Python由浮点运算造成了误差"
   ]
  },
  {
   "cell_type": "code",
   "execution_count": 4,
   "metadata": {},
   "outputs": [
    {
     "name": "stdout",
     "output_type": "stream",
     "text": [
      "0 0 0 1\n"
     ]
    }
   ],
   "source": [
    "def AND(x1,x2):\n",
    "    w1,w2,b = 0.5,0.5,-0.7\n",
    "    y = x1*w1+x2*w2+b\n",
    "    if y<=0:\n",
    "        return 0\n",
    "    if y>0:\n",
    "        return 1\n",
    "\n",
    "e = AND(0,0)\n",
    "f = AND(0,1)\n",
    "g = AND(1,0)\n",
    "h = AND(1,1)\n",
    "print(e,f,g,h)"
   ]
  },
  {
   "cell_type": "code",
   "execution_count": 5,
   "metadata": {},
   "outputs": [
    {
     "name": "stdout",
     "output_type": "stream",
     "text": [
      "0 1 1 1\n"
     ]
    }
   ],
   "source": [
    "# 或门\n",
    "def OR(x1,x2):\n",
    "    w1,w2,b = 0.5,0.5,-0.2  # 权重和偏置不同就行\n",
    "    y = x1*w1+x2*w2+b\n",
    "    if y<=0:\n",
    "        return 0\n",
    "    if y>0:\n",
    "        return 1\n",
    "\n",
    "e1 = OR(0,0)\n",
    "f1 = OR(0,1)\n",
    "g1 = OR(1,0)\n",
    "h1 = OR(1,1)\n",
    "print(e1,f1,g1,h1)"
   ]
  },
  {
   "cell_type": "code",
   "execution_count": 6,
   "metadata": {},
   "outputs": [
    {
     "name": "stdout",
     "output_type": "stream",
     "text": [
      "1 1 1 0\n"
     ]
    }
   ],
   "source": [
    "# 与非门\n",
    "def NAND(x1,x2):\n",
    "    w1,w2,b = -0.5,-0.5,0.7  # 权重和偏置不同就行\n",
    "    y = x1*w1+x2*w2+b\n",
    "    if y<=0:\n",
    "        return 0\n",
    "    if y>0:\n",
    "        return 1\n",
    "\n",
    "e2 = NAND(0,0)\n",
    "f2 = NAND(0,1)\n",
    "g2 = NAND(1,0)\n",
    "h2 = NAND(1,1)\n",
    "print(e2,f2,g2,h2)"
   ]
  },
  {
   "cell_type": "code",
   "execution_count": 7,
   "metadata": {},
   "outputs": [
    {
     "name": "stdout",
     "output_type": "stream",
     "text": [
      "0 1 1 0\n"
     ]
    }
   ],
   "source": [
    "# 异或\n",
    "def XOR(x1,x2):\n",
    "    w1 = NAND(x1,x2)\n",
    "    w2 = OR(x1,x2)\n",
    "    y = AND(w1,w2)\n",
    "    return y\n",
    "e3 = XOR(0,0)\n",
    "f3 = XOR(0,1)\n",
    "g3 = XOR(1,0)\n",
    "h3 = XOR(1,1)\n",
    "print(e3,f3,g3,h3)"
   ]
  },
  {
   "cell_type": "code",
   "execution_count": 12,
   "metadata": {},
   "outputs": [
    {
     "data": {
      "text/plain": [
       "Text(0.5, 1.0, 'step_fuction')"
      ]
     },
     "execution_count": 12,
     "metadata": {},
     "output_type": "execute_result"
    },
    {
     "data": {
      "image/png": "[encoded data removed]",
      "text/plain": [
       "<Figure size 432x288 with 1 Axes>"
      ]
     },
     "metadata": {
      "needs_background": "light"
     },
     "output_type": "display_data"
    }
   ],
   "source": [
    "# 阶跃函数\n",
    "import matplotlib.pyplot as plt\n",
    "def step_fuction(x):\n",
    "    return np.array(x>0,dtype=np.int)\n",
    "x = np.arange(-0.5,0.5,0.1)\n",
    "y = step_fuction(x)\n",
    "plt.plot(x,y)\n",
    "plt.ylim(-0.1,1.1) # 指定y轴范围\n",
    "plt.xlabel('x')\n",
    "plt.ylabel('y')\n",
    "plt.title('step_fuction')"
   ]
  },
  {
   "cell_type": "code",
   "execution_count": null,
   "metadata": {},
   "outputs": [],
   "source": []
  }
 ],
 "metadata": {
  "kernelspec": {
   "display_name": "Python [conda env:pytorch]",
   "language": "python",
   "name": "conda-env-pytorch-py"
  },
  "language_info": {
   "codemirror_mode": {
    "name": "ipython",
    "version": 3
   },
   "file_extension": ".py",
   "mimetype": "text/x-python",
   "name": "python",
   "nbconvert_exporter": "python",
   "pygments_lexer": "ipython3",
   "version": "3.6.13"
  }
 },
 "nbformat": 4,
 "nbformat_minor": 4
}
